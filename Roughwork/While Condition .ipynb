{
 "cells": [
  {
   "cell_type": "code",
   "execution_count": null,
   "id": "4bd46a7e",
   "metadata": {},
   "outputs": [],
   "source": [
    "# General format of the while condition is\n",
    "# While condition :\n",
    "# Print the 3 conzigitive numbers after the reader input\n",
    "n=int(input())\n",
    "# take the variable as p\n",
    "counter=0\n",
    "# write a condition in the condinton we write print only three conditions\n",
    "while counter <3:\n",
    "# add the element to the input number\n",
    "    n=n+1\n",
    "    print(n)\n",
    "# and checking the condition if the condition less then 3 the output will be print and otherwise it return false\n",
    "    counter=counter+1\n",
    "print('End-----')"
   ]
  },
  {
   "cell_type": "code",
   "execution_count": null,
   "id": "7c758747",
   "metadata": {},
   "outputs": [],
   "source": [
    "# Print the star method using the while loop condition\n",
    "a=int(input())\n",
    "counter=0\n",
    "while counter<a:\n",
    "    print(\"* \" *a)\n",
    "    counter=counter+1\n",
    "print('End---')\n",
    "   "
   ]
  },
  {
   "cell_type": "code",
   "execution_count": null,
   "id": "4785a99c",
   "metadata": {},
   "outputs": [],
   "source": [
    "n=int(input())\n",
    "counter=0\n",
    "while counter < n:\n",
    "    n=n-1\n",
    "    print(\"* \"*n)\n",
    "    counter =counter +1\n",
    "print('End---')"
   ]
  },
  {
   "cell_type": "code",
   "execution_count": null,
   "id": "bdb2ba18",
   "metadata": {},
   "outputs": [],
   "source": [
    "a=input()\n",
    "counter=0\n",
    "length_element=len(a)\n",
    "while counter < length_element :\n",
    "    print(a[counter])\n",
    "    counter=counter+1"
   ]
  },
  {
   "cell_type": "code",
   "execution_count": null,
   "id": "a891b582",
   "metadata": {},
   "outputs": [],
   "source": [
    "n=int(input())\n",
    "counter=0\n",
    "while counter < 1:\n",
    "    a=n-1\n",
    "    print(\"* \"*n)\n",
    "    print(\"* \"*a)\n",
    "    counter =counter+1\n",
    "print('End--')"
   ]
  },
  {
   "cell_type": "code",
   "execution_count": null,
   "id": "ebeaa49a",
   "metadata": {},
   "outputs": [],
   "source": [
    "# Write the program to read the input and print the same output\n",
    "n=int(input())\n",
    "counter=0\n",
    "while counter< n:\n",
    "    print(0)\n",
    "    counter=counter+1\n",
    "print('End---')"
   ]
  },
  {
   "cell_type": "code",
   "execution_count": 4,
   "id": "a255f33f",
   "metadata": {},
   "outputs": [
    {
     "name": "stdout",
     "output_type": "stream",
     "text": [
      "4\n",
      "1\n",
      "2\n",
      "3\n",
      "4\n"
     ]
    }
   ],
   "source": [
    "n=int(input())\n",
    "i=0\n",
    "counter=0\n",
    "while counter < n:\n",
    "    i+=1\n",
    "    print(i)\n",
    "    counter=counter+1"
   ]
  },
  {
   "cell_type": "code",
   "execution_count": 6,
   "id": "ba01d730",
   "metadata": {},
   "outputs": [
    {
     "name": "stdout",
     "output_type": "stream",
     "text": [
      "4\n"
     ]
    },
    {
     "data": {
      "text/plain": [
       "1"
      ]
     },
     "execution_count": 6,
     "metadata": {},
     "output_type": "execute_result"
    }
   ],
   "source": [
    "n=int(input())\n",
    "i=0\n",
    "counter=0\n",
    "i+=1\n",
    "i"
   ]
  },
  {
   "cell_type": "code",
   "execution_count": 11,
   "id": "f4d59562",
   "metadata": {},
   "outputs": [
    {
     "name": "stdout",
     "output_type": "stream",
     "text": [
      "8\n",
      "4.5\n"
     ]
    }
   ],
   "source": [
    "# Find the average sum of the numbers from the user inputs from the input\n",
    "n=int(input())\n",
    "i=0\n",
    "counter=0\n",
    "while counter < n:\n",
    "    counter=counter+1\n",
    "    i=i+counter\n",
    "average=i/ n\n",
    "print(average)\n",
    "   "
   ]
  },
  {
   "cell_type": "code",
   "execution_count": 16,
   "id": "fee8ab61",
   "metadata": {},
   "outputs": [
    {
     "name": "stdout",
     "output_type": "stream",
     "text": [
      "2\n",
      "Cube of number 1\n",
      "Cube of number 8\n"
     ]
    }
   ],
   "source": [
    "# Find the cube of the numbers\n",
    "n=int(input())\n",
    "sum_of_number=0\n",
    "counter=0\n",
    "while counter < n:\n",
    "    sum_of_number+=1\n",
    "    print(\"Cube of number\",sum_of_number**3)\n",
    "    counter=counter+1\n"
   ]
  },
  {
   "cell_type": "code",
   "execution_count": null,
   "id": "a402939f",
   "metadata": {},
   "outputs": [],
   "source": []
  },
  {
   "cell_type": "code",
   "execution_count": null,
   "id": "28f5d1e9",
   "metadata": {},
   "outputs": [],
   "source": []
  }
 ],
 "metadata": {
  "kernelspec": {
   "display_name": "Python 3 (ipykernel)",
   "language": "python",
   "name": "python3"
  },
  "language_info": {
   "codemirror_mode": {
    "name": "ipython",
    "version": 3
   },
   "file_extension": ".py",
   "mimetype": "text/x-python",
   "name": "python",
   "nbconvert_exporter": "python",
   "pygments_lexer": "ipython3",
   "version": "3.9.13"
  }
 },
 "nbformat": 4,
 "nbformat_minor": 5
}
