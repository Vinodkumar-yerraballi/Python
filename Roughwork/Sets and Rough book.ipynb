{
 "cells": [
  {
   "cell_type": "code",
   "execution_count": 1,
   "id": "06f480b6",
   "metadata": {},
   "outputs": [
    {
     "name": "stdout",
     "output_type": "stream",
     "text": [
      "1\n"
     ]
    }
   ],
   "source": [
    "def music_teacher(input1):\n",
    "    output={}\n",
    "    for i in input1:\n",
    "        if i in output:\n",
    "            output[i] +=1\n",
    "        else:\n",
    "            output[i]=1\n",
    "    result=set(output.values())\n",
    "    return len(result)\n",
    "print(music_teacher('abc'))\n"
   ]
  },
  {
   "cell_type": "code",
   "execution_count": 2,
   "id": "e3708a69",
   "metadata": {},
   "outputs": [
    {
     "name": "stdout",
     "output_type": "stream",
     "text": [
      "3\n"
     ]
    }
   ],
   "source": [
    "names=['vinod','sagar','teja','vinod','sagar','vinod']\n",
    "output={}\n",
    "for i in names:\n",
    "    if i in output:\n",
    "\n",
    "        output[i]+=1\n",
    "    else:\n",
    "        output[i]=1\n",
    "\n",
    "    result=set(output.values())\n",
    "print(len(result))"
   ]
  },
  {
   "cell_type": "code",
   "execution_count": 3,
   "id": "dee22ece",
   "metadata": {},
   "outputs": [
    {
     "name": "stdout",
     "output_type": "stream",
     "text": [
      "{1, 2, 3, 4, 5}\n"
     ]
    }
   ],
   "source": [
    "# What is useful in set it remove the duplicate values\n",
    "list_1=[1,2,3,4,5,1,1,2,2,3]\n",
    "output=set(list_1)\n",
    "print(output)"
   ]
  },
  {
   "cell_type": "code",
   "execution_count": 4,
   "id": "c8f18026",
   "metadata": {},
   "outputs": [
    {
     "name": "stdout",
     "output_type": "stream",
     "text": [
      "{1, 2, 3, 4, 5, 6, 7, 8}\n",
      "{1, 2, 4, 5, 6, 7, 8}\n",
      "9\n"
     ]
    }
   ],
   "source": [
    "# we can add the set using the add and upated keywords\n",
    "s1={1,2,3,4,5}\n",
    "s1.add(6)\n",
    "# we can add the multiple values we can use the update method\n",
    "s1.update([7,8])\n",
    "print(s1)\n",
    "# if we remove the 4 in the set we use the remove method\n",
    "s1.remove(3)\n",
    "print(s1)\n",
    "# we can also used discard method to remove the set but it is useful when the number not in the list its\n",
    "# useful don't recevied the any key error\n",
    "# in the example 9 is not in the set when use remove method get error using discard we get some information\n",
    "s1.discard(9)\n",
    "print(9)"
   ]
  },
  {
   "cell_type": "code",
   "execution_count": 5,
   "id": "a4b4ec00",
   "metadata": {},
   "outputs": [
    {
     "name": "stdout",
     "output_type": "stream",
     "text": [
      "{1, 4}\n"
     ]
    }
   ],
   "source": [
    "# intersection topic in the sets\n",
    "s1={1,2,3}\n",
    "s2={2,3,4}\n",
    "s3={3,4,5}\n",
    "result=s1.intersection(s2)\n",
    "result_1=s1.intersection(s2,s3)\n",
    "result_1\n",
    "# differnece in the two set\n",
    "differnece=s1.difference(s2)\n",
    "differnece_1=s3.difference(s1,s2)\n",
    "differnece_1\n",
    "# if you want two differenct element in the set we use symetric differnce\n",
    "symetric_diff=s1.symmetric_difference(s2)  # output {1,4}\n",
    "print(symetric_diff)"
   ]
  },
  {
   "cell_type": "code",
   "execution_count": 6,
   "id": "14289f05",
   "metadata": {},
   "outputs": [
    {
     "name": "stdout",
     "output_type": "stream",
     "text": [
      "['teja', 'Vinod']\n",
      "['sagar']\n"
     ]
    }
   ],
   "source": [
    "# Problems\n",
    "names=['Vinod','sagar','teja']\n",
    "jobs=['Vinod','telecom','software','teja']\n",
    "# find the common words in the two list\n",
    "result=set(names).intersection(jobs)   #output : ['teja', 'Vinod']\n",
    "print(list(result))\n",
    "result_1=set(names).difference(jobs)\n",
    "print(list(result_1))                # Output : ['sagar']"
   ]
  },
  {
   "cell_type": "code",
   "execution_count": null,
   "id": "b861d258",
   "metadata": {},
   "outputs": [],
   "source": []
  }
 ],
 "metadata": {
  "kernelspec": {
   "display_name": "Python 3 (ipykernel)",
   "language": "python",
   "name": "python3"
  },
  "language_info": {
   "codemirror_mode": {
    "name": "ipython",
    "version": 3
   },
   "file_extension": ".py",
   "mimetype": "text/x-python",
   "name": "python",
   "nbconvert_exporter": "python",
   "pygments_lexer": "ipython3",
   "version": "3.11.3"
  }
 },
 "nbformat": 4,
 "nbformat_minor": 5
}
