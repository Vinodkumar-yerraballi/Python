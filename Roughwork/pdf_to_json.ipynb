{
  "nbformat": 4,
  "nbformat_minor": 0,
  "metadata": {
    "colab": {
      "provenance": []
    },
    "kernelspec": {
      "name": "python3",
      "display_name": "Python 3"
    },
    "language_info": {
      "name": "python"
    }
  },
  "cells": [
    {
      "cell_type": "markdown",
      "source": [],
      "metadata": {
        "id": "DZGbzipQvWUe"
      }
    },
    {
      "cell_type": "code",
      "source": [
        "# Final function\n",
        "import PyPDF2\n",
        "import tabula\n",
        "import json\n",
        "import os\n",
        "import docx2txt\n",
        "\n",
        "\n",
        "def pdf_to_json(pdf_path):\n",
        "    # Open the PDF file\n",
        "    with open(pdf_path, 'rb') as file:\n",
        "        # Create a PyPDF2 reader object\n",
        "        pdf_reader = PyPDF2.PdfReader(file)\n",
        "        # Check if the PDF has any pages\n",
        "        # write the conditon if no pages return to none\n",
        "        if pdf_reader.pages == 0:\n",
        "            return None\n",
        "        # Extract the table data from the first page of the PDF using tabula-py\n",
        "        df = tabula.read_pdf(pdf_path, pages='all', multiple_tables=True)\n",
        "        # Check if the page contains any tables\n",
        "        if len(df) == 0:\n",
        "            return None\n",
        "        else:\n",
        "            # Convert the table data to a list of JSON objects\n",
        "            #create a empty list\n",
        "            table = []\n",
        "            headers = df[0].columns.tolist()\n",
        "            for index, row in df[0].iterrows():\n",
        "              #create a dictionary\n",
        "                row_dict = {}\n",
        "                # header in headers\n",
        "                for header in headers:\n",
        "                  #then diction heades covert to row header in string format\n",
        "                    row_dict[header] = str(row[header])\n",
        "                    #finally append to the dicion then dump the model\n",
        "                table.append(row_dict)\n",
        "            return json.dumps(table)\n",
        "table = pdf_to_json('C://Users//Admin//Downloads//intern//input//My Resume .pdf')\n",
        "if table is not None:\n",
        "    print(table)\n",
        "else:\n",
        "    print(\"The PDF file does not contain any tables.\")\n"
      ],
      "metadata": {
        "id": "EQvJVk8Ot1rO"
      },
      "execution_count": null,
      "outputs": []
    },
    {
      "cell_type": "code",
      "source": [
        "input_folder = 'C:/Users/Admin/Downloads/intern/input/'\n",
        "output_folder = 'C:/Users/Admin/Downloads/intern/output'\n",
        "\n",
        "if not os.path.exists(output_folder):\n",
        "    os.makedirs(output_folder)\n",
        "\n",
        "for root, dirs, files in os.walk(input_folder):\n",
        "    for file in files:\n",
        "        file_path = os.path.join(root, file)\n",
        "        file_name, file_ext = os.path.splitext(file)\n",
        "        if file_ext == '.pdf':\n",
        "            with open(file_path, 'rb') as pdf_file:\n",
        "                pdf_reader = PyPDF2.PdfReader(pdf_file)\n",
        "                text = ''\n",
        "                for page in pdf_reader.pages:\n",
        "                    text += page.extract_text()\n",
        "        elif file_ext == '.docx':\n",
        "            text = docx2txt.process(file_path)\n",
        "        else:\n",
        "            continue\n",
        "        \n",
        "        output_path = os.path.join(output_folder, file_name + '.txt')\n",
        "        with open(output_path, 'w',encoding=\"utf-8\") as output_file:\n",
        "            output_file.write(text)\n"
      ],
      "metadata": {
        "id": "l10ywSvU-wv7"
      },
      "execution_count": null,
      "outputs": []
    }
  ]
}