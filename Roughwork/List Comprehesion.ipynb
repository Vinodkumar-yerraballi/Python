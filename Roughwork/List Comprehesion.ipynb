{
 "cells": [
  {
   "cell_type": "code",
   "execution_count": 1,
   "id": "137b997a",
   "metadata": {},
   "outputs": [
    {
     "name": "stdout",
     "output_type": "stream",
     "text": [
      "[1, 4, 9, 16, 25, 36, 49, 64, 81, 100, 121, 144, 169, 196, 225, 256, 289, 324, 361]\n",
      "[1, 4, 9, 5, 3, 3, 5, 9, 4, 1, 0, 1, 4, 9, 5, 3, 3, 5, 9]\n",
      "['cat']\n",
      "[(1, 2), (1, 4), (1, 5), (2, 2), (2, 4), (2, 5), (3, 2), (3, 4), (3, 5)]\n"
     ]
    }
   ],
   "source": [
    "# list of the square items in 20 using list comprehesion\n",
    "list_1=[i**2 for i in range(1,20)]\n",
    "print(list_1)\n",
    "list_2=[i**2%11 for i in range(1,20)]\n",
    "print(list_2)\n",
    "general=['apple','ant','amen','ball','cat']\n",
    "output=[i for i in general if i.startswith('c')]\n",
    "print(output)\n",
    "A=[1,2,3]\n",
    "B=[2,4,5]\n",
    "result=[(a,b) for a in  A for b in B]\n",
    "print(result)"
   ]
  },
  {
   "cell_type": "code",
   "execution_count": 2,
   "id": "f11050aa",
   "metadata": {},
   "outputs": [
    {
     "name": "stdout",
     "output_type": "stream",
     "text": [
      "['Vinod kumar', 'Sagar', 'Raviteja']\n",
      "['Vinod kumar', 'Sagar', 'Raviteja']\n"
     ]
    }
   ],
   "source": [
    "# List Comprehension with example\n",
    "List=['vinod kumar','sagar','raviteja']\n",
    "output=[]\n",
    "for n in List:\n",
    "    if n.lower():\n",
    "        n=n.capitalize()\n",
    "    else:\n",
    "        print('Error'+n.capitalize())\n",
    "    output.append(n)\n",
    "result=output\n",
    "print(result)\n",
    "final_result=[n.capitalize() if n.lower() else 'Error'+n.capitalize() for n in List]\n",
    "print(final_result)"
   ]
  },
  {
   "cell_type": "code",
   "execution_count": 3,
   "id": "b1e18079",
   "metadata": {},
   "outputs": [
    {
     "name": "stdout",
     "output_type": "stream",
     "text": [
      "['APPLE', 'BANNA', 'MANGO']\n",
      "['APPLE', 'BANNA', 'MANGO']\n"
     ]
    }
   ],
   "source": [
    "fruits=['apple','banna','mango']\n",
    "new_output=[]\n",
    "for i in fruits:\n",
    "    fruit=i.upper()\n",
    "    new_output.append(fruit)\n",
    "final=new_output\n",
    "print(final)\n",
    "output=[fruit.upper() for fruit in fruits]\n",
    "print(output)\n",
    "    "
   ]
  },
  {
   "cell_type": "code",
   "execution_count": 4,
   "id": "6d53ac40",
   "metadata": {},
   "outputs": [
    {
     "name": "stdout",
     "output_type": "stream",
     "text": [
      "My name is Vinodkumar\n"
     ]
    }
   ],
   "source": [
    "# Problems\n",
    "Example='MyNameIsVinodkumar'\n",
    "output='' .join([i if i.islower() else \" \"+ i.lower() if i in ['N','I'] else \" \"+i for i in Example])[1:]\n",
    "print(output)"
   ]
  },
  {
   "cell_type": "code",
   "execution_count": null,
   "id": "afe6c754",
   "metadata": {},
   "outputs": [],
   "source": []
  }
 ],
 "metadata": {
  "kernelspec": {
   "display_name": "Python 3 (ipykernel)",
   "language": "python",
   "name": "python3"
  },
  "language_info": {
   "codemirror_mode": {
    "name": "ipython",
    "version": 3
   },
   "file_extension": ".py",
   "mimetype": "text/x-python",
   "name": "python",
   "nbconvert_exporter": "python",
   "pygments_lexer": "ipython3",
   "version": "3.11.3"
  }
 },
 "nbformat": 4,
 "nbformat_minor": 5
}
