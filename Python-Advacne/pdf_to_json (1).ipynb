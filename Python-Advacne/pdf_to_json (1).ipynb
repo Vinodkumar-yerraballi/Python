{
  "nbformat": 4,
  "nbformat_minor": 0,
  "metadata": {
    "colab": {
      "provenance": []
    },
    "kernelspec": {
      "name": "python3",
      "display_name": "Python 3"
    },
    "language_info": {
      "name": "python"
    }
  },
  "cells": [
    {
      "cell_type": "markdown",
      "source": [],
      "metadata": {
        "id": "DZGbzipQvWUe"
      }
    },
    {
      "cell_type": "code",
      "source": [
        "# Final function\n",
        "import PyPDF2\n",
        "import tabula\n",
        "from tabula.io import read_pdf\n",
        "import json\n",
        "import os\n",
        "import docx2txt\n",
        "\n",
        "\n",
        "def pdf_to_json(pdf_path):\n",
        "    # Open the PDF file\n",
        "    with open(pdf_path, 'rb') as file:\n",
        "        # Create a PyPDF2 reader object\n",
        "        pdf_reader = PyPDF2.PdfReader(file)\n",
        "        # Check if the PDF has any pages\n",
        "        # write the conditon if no pages return to none\n",
        "        if pdf_reader.pages == 0:\n",
        "            return None\n",
        "        # Extract the table data from the first page of the PDF using tabula-py\n",
        "        df = read_pdf(pdf_path, pages='all', multiple_tables=True)\n",
        "        # Check if the page contains any tables\n",
        "        if len(df) == 0:\n",
        "            return None\n",
        "        else:\n",
        "            # Convert the table data to a list of JSON objects\n",
        "            #create a empty list\n",
        "            table = []\n",
        "            headers = df[0].columns.tolist()\n",
        "            for index, row in df[0].iterrows():\n",
        "              #create a dictionary\n",
        "                row_dict = {}\n",
        "                # header in headers\n",
        "                for header in headers:\n",
        "                  #then diction heades covert to row header in string format\n",
        "                    row_dict[header] = str(row[header])\n",
        "                    #finally append to the dicion then dump the model\n",
        "                table.append(row_dict)\n",
        "            return json.dumps(table)\n",
        "table = pdf_to_json('/content/My Resume .pdf')\n",
        "if table is not None:\n",
        "    print(table)\n",
        "else:\n",
        "    print(\"The PDF file does not contain any tables.\")\n"
      ],
      "metadata": {
        "id": "EQvJVk8Ot1rO",
        "colab": {
          "base_uri": "https://localhost:8080/"
        },
        "outputId": "702eb447-429b-4537-c205-e32e7005ee08"
      },
      "execution_count": 91,
      "outputs": [
        {
          "output_type": "stream",
          "name": "stdout",
          "text": [
            "[{\"Date\": \"2019-2023\", \"Degree\": \"B.Tech (Electronics & Communication)\", \"Institute\": \"Malla Reddy Engineering College\", \"performance\": \"8.68 / 10\"}, {\"Date\": \"2017-2019\", \"Degree\": \"Class XII \\u2013 (AP STATE BOARD)\", \"Institute\": \"Sri Chaitanya Junior College\", \"performance\": \"9.88 / 10\"}, {\"Date\": \"2016-2017\", \"Degree\": \"Class X\\u2013  (AP STATE BOARD)\", \"Institute\": \"Sri Chaitanya Techno School\", \"performance\": \"10 / 10\"}]\n"
          ]
        }
      ]
    },
    {
      "cell_type": "code",
      "source": [
        "pdf_path=('/content/My Resume .pdf')\n",
        "df = read_pdf(pdf_path, pages='all', multiple_tables=True,guess='area')\n",
        "sliced=slice(0,-1,1)\n",
        "element=df[1]\n",
        "element.to_json(orient='split')"
      ],
      "metadata": {
        "colab": {
          "base_uri": "https://localhost:8080/",
          "height": 174
        },
        "id": "cpvEa5Q8GX9c",
        "outputId": "dd2de561-89a3-43e5-f471-4a2be526fc6b"
      },
      "execution_count": 104,
      "outputs": [
        {
          "output_type": "execute_result",
          "data": {
            "text/plain": [
              "'{\"columns\":[\"Languages\",\"C, Python, R, MySQL\"],\"index\":[0,1,2,3,4,5,6,7,8,9,10,11],\"data\":[[\"Deep Learning\",\"CNN, RNN, LSTMs, Encoder-Decoder, Transforms, BERT, GNN\"],[\"Machine Learning\",\"Supervised & unsupervised ML Algorithms, SVMs, Logistic Regression and\"],[null,\"Linear Regression, Clustering and Decision Tree, Bagging and Boosting, GBT\"],[\"Libraries \\\\/ Framework\",\"NLTK, TensorFlow, Keras, Pandas, Numpy, Matplotlib, Scikit-Learn, Seaborn\"],[\"Visualization Tools\",\"Microsoft power BI, Microsoft Excel, Jupiter Notebook, Google-Colab, IDLE\"],[\"Courses\",\"Machine Learning, Natural Language Processing NLP and Text Mining, Deep\"],[null,\"Learning, Advanced Data Analytics, R-Programming, Computer Architecture,\"],[null,\"Data Pipelining, Data visualization, Applied Artificial Intelligence using Python\"],[\"Certifications\",\"Data Science and Advanced Analytics (BCG), Data Science Tools DS0105EN,\"],[null,\"Statistics ST0101EN (IBM), Business Analytics with Excel, SQL and Relational\"],[null,\"Databases DB0101 (IBM), R for Data Science RP0101EN (IBM)\"],[\"Others\",\"Basic Game Development Using Scratch (CourseEra)\"]]}'"
            ],
            "application/vnd.google.colaboratory.intrinsic+json": {
              "type": "string"
            }
          },
          "metadata": {},
          "execution_count": 104
        }
      ]
    },
    {
      "cell_type": "code",
      "source": [
        "def pdf_to_json(file_path):\n",
        "    with open(file_path,'rb') as file:\n",
        "        reader=PyPDF2.PdfReader(file)\n",
        "        if reader.pages==0:\n",
        "            return None\n",
        "        creat_table=read_pdf(file_path,pages='all',multiple_tables=True)\n",
        "        if len(creat_table)==0:\n",
        "            return None\n",
        "        else:\n",
        "            list_1=[]\n",
        "            element=creat_table[1]\n",
        "            print(element)\n",
        "            # table=element.to_json(orient='index')\n",
        "            # list_1.append(table)\n",
        "table = pdf_to_json('/content/My Resume .pdf')\n",
        "if table is not None:\n",
        "    print(table)\n",
        "# else:\n",
        "#     print(\"The PDF file does not contain any tables.\")\n"
      ],
      "metadata": {
        "colab": {
          "base_uri": "https://localhost:8080/"
        },
        "id": "JM2O6m2wDk8v",
        "outputId": "5f13e3e5-ab7d-49b0-b8f2-621337e5b53a"
      },
      "execution_count": 101,
      "outputs": [
        {
          "output_type": "stream",
          "name": "stdout",
          "text": [
            "{'extraction_method': 'stream', 'top': 244.0, 'left': 27.0, 'width': 540.0, 'height': 203.0, 'right': 567.0, 'bottom': 447.0, 'data': [[{'top': 251.18, 'left': 33.96, 'width': 56.959999084472656, 'height': 6.239999771118164, 'text': 'Languages'}, {'top': 251.18, 'left': 161.42, 'width': 105.93000030517578, 'height': 6.239999771118164, 'text': 'C, Python, R, MySQL'}], [{'top': 266.93, 'left': 33.96, 'width': 77.4800033569336, 'height': 6.239999771118164, 'text': 'Deep Learning'}, {'top': 266.93, 'left': 161.42, 'width': 312.8599853515625, 'height': 6.239999771118164, 'text': 'CNN, RNN, LSTMs, Encoder-Decoder, Transforms, BERT, GNN'}], [{'top': 282.65, 'left': 33.96, 'width': 95.36000061035156, 'height': 6.239999771118164, 'text': 'Machine Learning'}, {'top': 282.65, 'left': 161.42, 'width': 375.9599914550781, 'height': 6.239999771118164, 'text': 'Supervised & unsupervised ML Algorithms, SVMs, Logistic Regression and'}], [{'top': 0.0, 'left': 0.0, 'width': 0.0, 'height': 0.0, 'text': ''}, {'top': 298.01, 'left': 161.42, 'width': 384.4999694824219, 'height': 6.239999771118164, 'text': 'Linear Regression, Clustering and Decision Tree, Bagging and Boosting, GBT'}], [{'top': 313.73, 'left': 33.96, 'width': 117.68000793457031, 'height': 6.239999771118164, 'text': 'Libraries / Framework'}, {'top': 313.73, 'left': 161.42, 'width': 384.8600158691406, 'height': 6.239999771118164, 'text': 'NLTK, TensorFlow, Keras, Pandas, Numpy, Matplotlib, Scikit-Learn, Seaborn'}], [{'top': 329.45, 'left': 33.96, 'width': 99.80000305175781, 'height': 6.239999771118164, 'text': 'Visualization Tools'}, {'top': 329.45, 'left': 161.42, 'width': 381.1399841308594, 'height': 6.239999771118164, 'text': 'Microsoft power BI, Microsoft Excel, Jupiter Notebook, Google-Colab, IDLE'}], [{'top': 345.17, 'left': 33.96, 'width': 43.63999938964844, 'height': 6.239999771118164, 'text': 'Courses'}, {'top': 345.17, 'left': 161.42, 'width': 385.8000183105469, 'height': 6.239999771118164, 'text': 'Machine Learning, Natural Language Processing NLP and Text Mining, Deep'}], [{'top': 0.0, 'left': 0.0, 'width': 0.0, 'height': 0.0, 'text': ''}, {'top': 360.53, 'left': 161.42, 'width': 389.6600036621094, 'height': 6.239999771118164, 'text': 'Learning, Advanced Data Analytics, R-Programming, Computer Architecture,'}], [{'top': 0.0, 'left': 0.0, 'width': 0.0, 'height': 0.0, 'text': ''}, {'top': 375.77, 'left': 161.42, 'width': 394.8199768066406, 'height': 6.239999771118164, 'text': 'Data Pipelining, Data visualization, Applied Artificial Intelligence using Python'}], [{'top': 391.49, 'left': 33.96, 'width': 71.84000396728516, 'height': 6.239999771118164, 'text': 'Certifications'}, {'top': 391.49, 'left': 161.42, 'width': 382.3399963378906, 'height': 6.239999771118164, 'text': 'Data Science and Advanced Analytics (BCG), Data Science Tools DS0105EN,'}], [{'top': 0.0, 'left': 0.0, 'width': 0.0, 'height': 0.0, 'text': ''}, {'top': 406.73, 'left': 161.42, 'width': 386.3299865722656, 'height': 6.239999771118164, 'text': 'Statistics ST0101EN (IBM), Business Analytics with Excel, SQL and Relational'}], [{'top': 0.0, 'left': 0.0, 'width': 0.0, 'height': 0.0, 'text': ''}, {'top': 421.97, 'left': 161.42, 'width': 313.5799865722656, 'height': 6.239999771118164, 'text': 'Databases DB0101 (IBM), R for Data Science RP0101EN (IBM)'}], [{'top': 437.83, 'left': 33.96, 'width': 38.12000274658203, 'height': 6.239999771118164, 'text': 'Others'}, {'top': 437.83, 'left': 161.42, 'width': 266.6300048828125, 'height': 6.239999771118164, 'text': 'Basic Game Development Using Scratch (CourseEra)'}]]}\n"
          ]
        }
      ]
    },
    {
      "cell_type": "code",
      "source": [
        "input_folder = 'C:/Users/Admin/Downloads/intern/input/'\n",
        "output_folder = 'C:/Users/Admin/Downloads/intern/output'\n",
        "\n",
        "if not os.path.exists(output_folder):\n",
        "    os.makedirs(output_folder)\n",
        "\n",
        "for root, dirs, files in os.walk(input_folder):\n",
        "    for file in files:\n",
        "        file_path = os.path.join(root, file)\n",
        "        file_name, file_ext = os.path.splitext(file)\n",
        "        if file_ext == '.pdf':\n",
        "            with open(file_path, 'rb') as pdf_file:\n",
        "                pdf_reader = PyPDF2.PdfReader(pdf_file)\n",
        "                text = ''\n",
        "                for page in pdf_reader.pages:\n",
        "                    text += page.extract_text()\n",
        "        elif file_ext == '.docx':\n",
        "            text = docx2txt.process(file_path)\n",
        "        else:\n",
        "            continue\n",
        "        \n",
        "        output_path = os.path.join(output_folder, file_name + '.txt')\n",
        "        with open(output_path, 'w',encoding=\"utf-8\") as output_file:\n",
        "            output_file.write(text)\n"
      ],
      "metadata": {
        "id": "l10ywSvU-wv7"
      },
      "execution_count": 90,
      "outputs": []
    }
  ]
}