{
 "cells": [
  {
   "cell_type": "markdown",
   "id": "bbcb2e59",
   "metadata": {},
   "source": [
    "#### Relation Operators in the Python\n",
    "- \"<\"less then if right element less then left element return to True, if right element more then the left element return False\n",
    "- \">\" Same way Right  element less then left element return to Ture, if righ element less then left element return False\n",
    "- \"<=\" the left element should be lessthen or equal to the right element return to False. When right element greater then left element return True.\n",
    "- \">=\" The right element should be greater then left element return to the True. When the right element less then left element return to False.\n",
    "- \"==\" if both element equal then return to True other wise it return False.\n",
    "- \"!=\" if the right element not equal to left element then return to False, if equal Ture will be append"
   ]
  },
  {
   "cell_type": "code",
   "execution_count": 1,
   "id": "25557983",
   "metadata": {},
   "outputs": [
    {
     "name": "stdout",
     "output_type": "stream",
     "text": [
      "The left element less then the rigt lement and return to True True\n",
      "if the right element less the the righ element return to False False\n",
      "if the righ element lessthen left element return to True True\n",
      "If the righ element greater then the left element return false False\n"
     ]
    }
   ],
   "source": [
    "print(\"The left element less then the rigt lement and return to True\",(5<10))\n",
    "print(\"if the right element less the the righ element return to False\",(10 <5))\n",
    "print(\"if the righ element lessthen left element return to True\",(10>5))\n",
    "print(\"If the righ element greater then the left element return false\",(5>15))"
   ]
  },
  {
   "cell_type": "code",
   "execution_count": 2,
   "id": "9c5f233b",
   "metadata": {},
   "outputs": [
    {
     "name": "stdout",
     "output_type": "stream",
     "text": [
      "If the Both element are equal then if return to True otherwise return False True\n",
      "if both element in right and left equal return to False, other wise return to True False\n",
      "Checking the both condition if righ element greater  False\n",
      "Checking the both condition less then and equal True\n"
     ]
    }
   ],
   "source": [
    "print(\"If the Both element are equal then if return to True otherwise return False\",(2==2))\n",
    "print(\"if both element in right and left equal return to False, other wise return to True\",(2!=2))\n",
    "#then left element or left element and right element equal and greater then right element greter then return true\n",
    "print(\"Checking the both condition if righ element greater \",(2>=4))\n",
    "#then left element or left element and right element equal and greater then right element less then return true\n",
    "print(\"Checking the both condition less then and equal\",(5<=6))"
   ]
  },
  {
   "cell_type": "code",
   "execution_count": 3,
   "id": "9f674854",
   "metadata": {},
   "outputs": [
    {
     "name": "stdout",
     "output_type": "stream",
     "text": [
      "Checking the two string values True\n"
     ]
    }
   ],
   "source": [
    "#We can apply the same methods into string properties\n",
    "print(\"Checking the two string values\",(\"ABC\"==\"ABC\"))"
   ]
  },
  {
   "cell_type": "markdown",
   "id": "8b824c5a",
   "metadata": {},
   "source": [
    "### Small Problems for coding"
   ]
  },
  {
   "cell_type": "code",
   "execution_count": 4,
   "id": "eb87de1f",
   "metadata": {},
   "outputs": [
    {
     "name": "stdout",
     "output_type": "stream",
     "text": [
      "True\n",
      "If the frist three element same return to True\n"
     ]
    }
   ],
   "source": [
    "#In the problem we first three charterstic are same we print the both two variable have same chartestics return to bool value\n",
    "# The First Method for result\n",
    "'''In the method i create a another varibale for first three chartestic\n",
    "and using if condition the result in the two variable\n",
    "prin the bool type of the result'''\n",
    "a=\"Apple\"\n",
    "b=\"Application\"\n",
    "result='App'\n",
    "if result in a and b:\n",
    "    print(bool(result))\n",
    "#Second method for the result\n",
    "#in the second process create a slicing method\n",
    "print(\"If the frist three element same return to\",(a[0:3]==b[0:3]))"
   ]
  },
  {
   "cell_type": "markdown",
   "id": "d349d360",
   "metadata": {},
   "source": [
    "####  Coding Problems \n",
    "- Problem 1 :if the greate then 70 return to True\n",
    "- Problem 2: Greatest among the two numbers\n",
    "- Problem 3: Negative Number\n",
    "- Problem 4: Equal to\n",
    "- Problem 5: Sunday \n",
    "- Problem 6: Not equal\n",
    "- Problem 7: Greater then equal\n",
    "- Problem 8: Less then equal"
   ]
  },
  {
   "cell_type": "code",
   "execution_count": 5,
   "id": "b3f5f224",
   "metadata": {},
   "outputs": [
    {
     "name": "stdout",
     "output_type": "stream",
     "text": [
      "Enter any number3\n",
      "False\n",
      "False\n"
     ]
    }
   ],
   "source": [
    "#First method \n",
    "m=int(input(\"Enter any number\"))\n",
    "n=70\n",
    "if m>n:\n",
    "    print(True)\n",
    "else:\n",
    "    print(False)\n",
    "#Second method simple way we create result variable\n",
    "result=(m>n)\n",
    "print(result)"
   ]
  },
  {
   "cell_type": "code",
   "execution_count": 6,
   "id": "413ac612",
   "metadata": {},
   "outputs": [
    {
     "name": "stdout",
     "output_type": "stream",
     "text": [
      "Enter a number3\n",
      "Enter other number3\n",
      "False\n",
      "The Second Method False\n"
     ]
    }
   ],
   "source": [
    "#First Method \n",
    "a=int(input(\"Enter a number\"))\n",
    "b=int(input(\"Enter other number\"))\n",
    "\n",
    "if a > b:\n",
    "    print(True)\n",
    "else:\n",
    "    print(False)\n",
    "#Second method for \n",
    "final_result=(a>b)\n",
    "print(\"The Second Method\",final_result)"
   ]
  },
  {
   "cell_type": "code",
   "execution_count": 7,
   "id": "ad3fe16e",
   "metadata": {},
   "outputs": [
    {
     "name": "stdout",
     "output_type": "stream",
     "text": [
      "Enter a negative number-3\n",
      "True\n",
      "The second method True\n"
     ]
    }
   ],
   "source": [
    "#the First method \n",
    "n=int(input(\"Enter a negative number\"))\n",
    "if n<0:\n",
    "    print(True)\n",
    "else:\n",
    "    print(False)\n",
    "#Second Method\n",
    "final_result=(n<0)\n",
    "print(\"The second method\",final_result)"
   ]
  },
  {
   "cell_type": "code",
   "execution_count": 8,
   "id": "a5d0e318",
   "metadata": {},
   "outputs": [
    {
     "name": "stdout",
     "output_type": "stream",
     "text": [
      "3\n",
      "3\n",
      "True\n",
      "The Second method True\n"
     ]
    }
   ],
   "source": [
    "#First method\n",
    "m=input()\n",
    "n=input()\n",
    "if m==n:\n",
    "    print(True)\n",
    "else:\n",
    "    print(False)\n",
    "#Second method\n",
    "final_result=(m==n)\n",
    "print(\"The Second method\",final_result)"
   ]
  },
  {
   "cell_type": "code",
   "execution_count": 9,
   "id": "4c6b7dd1",
   "metadata": {},
   "outputs": [
    {
     "name": "stdout",
     "output_type": "stream",
     "text": [
      "3\n",
      "False\n",
      "The Second method False\n"
     ]
    }
   ],
   "source": [
    "#First method for the calculating the sunday\n",
    "m=int(input())\n",
    "if m==7:\n",
    "    print(True)\n",
    "else:\n",
    "    print(False)\n",
    "#Sunday\n",
    "result=(m==7)\n",
    "print(\"The Second method\",result)"
   ]
  },
  {
   "cell_type": "code",
   "execution_count": 10,
   "id": "270e402a",
   "metadata": {},
   "outputs": [
    {
     "name": "stdout",
     "output_type": "stream",
     "text": [
      "3\n",
      "3\n",
      "False\n",
      "The second method result False\n"
     ]
    }
   ],
   "source": [
    "#Create a fist method\n",
    "m=int(input())\n",
    "n=int(input())\n",
    "if m!=n:\n",
    "    print(True)\n",
    "else:\n",
    "    print(False)\n",
    "#Second method\n",
    "print(\"The second method result\",(m!=n))"
   ]
  },
  {
   "cell_type": "code",
   "execution_count": 11,
   "id": "70deac1e",
   "metadata": {},
   "outputs": [
    {
     "name": "stdout",
     "output_type": "stream",
     "text": [
      "3\n",
      "3\n",
      "A>=B is True\n",
      "The Second method A>=B is True\n"
     ]
    }
   ],
   "source": [
    "#First method\n",
    "m=float(input())\n",
    "n=float(input())\n",
    "result=\"A>=B is {}\"\n",
    "if m>=n:\n",
    "    print(result.format(True))\n",
    "else:\n",
    "    print(result.format(False))\n",
    "#Second method\n",
    "print(\"The Second method\",result.format(m>=n))"
   ]
  },
  {
   "cell_type": "code",
   "execution_count": 13,
   "id": "0e922da6",
   "metadata": {},
   "outputs": [
    {
     "name": "stdout",
     "output_type": "stream",
     "text": [
      "4.5\n",
      "5.6\n",
      "True\n",
      "The Second Method True\n"
     ]
    }
   ],
   "source": [
    "m=float(input())\n",
    "n=float(input())\n",
    "if m<=n:\n",
    "    print(True)\n",
    "else:\n",
    "    print(False)\n",
    "    \n",
    "#Second method\n",
    "print(\"The Second Method\",(m<=n))"
   ]
  },
  {
   "cell_type": "markdown",
   "id": "ad478508",
   "metadata": {},
   "source": [
    "### Second Coding Questions:\n",
    "- Problem 1: Greater Than -2\n",
    "- Problem 2:Check One Generator\n",
    "- Problem 3:Compare first and last letter\n",
    "- Problem 4:Compare the Sum of the digits\n",
    "- Problem 5:Valide password\n",
    "- Problem 6:Valide password\n",
    "- Problem 7:Fist three letters\n"
   ]
  },
  {
   "cell_type": "code",
   "execution_count": 14,
   "id": "70d3ab4b",
   "metadata": {},
   "outputs": [
    {
     "name": "stdout",
     "output_type": "stream",
     "text": [
      "5\n",
      "5\n",
      " A > B is False \n",
      "A>B is False\n"
     ]
    }
   ],
   "source": [
    "#Frist method\n",
    "m=int(input())\n",
    "n=int(input())\n",
    "result=\" A > B is {} \"\n",
    "if m>n:\n",
    "    print(result.format(True))\n",
    "else:\n",
    "    print(result.format(False))\n",
    "#Secod method\n",
    "print(\"A>B is {}\".format(m>n))"
   ]
  },
  {
   "cell_type": "code",
   "execution_count": 15,
   "id": "4e0efca2",
   "metadata": {},
   "outputs": [
    {
     "name": "stdout",
     "output_type": "stream",
     "text": [
      "5\n",
      "6\n",
      "True\n",
      "The second method True\n"
     ]
    }
   ],
   "source": [
    "#if a=2 b=3 b is grear then by a and if we subtract b to a we one then return to true other wise false\n",
    "#Always use the if conditons\n",
    "a=int(input())\n",
    "b=int(input())\n",
    "if (a<b) and (b-a==1):\n",
    "    print(True)\n",
    "else:\n",
    "    print(False)\n",
    "#Second Method\n",
    "print(\"The second method\",(a<b) and (b-a==1))"
   ]
  },
  {
   "cell_type": "code",
   "execution_count": 16,
   "id": "2c25e10b",
   "metadata": {},
   "outputs": [
    {
     "name": "stdout",
     "output_type": "stream",
     "text": [
      "4\n",
      "False\n"
     ]
    }
   ],
   "source": [
    "#if the fist and last letter not equal return to True other wise false\n",
    "# ex.Python return to True,label return to False \n",
    "#Write the code into the singe line\n",
    "a=input()\n",
    "print(a[0]!=a[-1])"
   ]
  },
  {
   "cell_type": "code",
   "execution_count": 17,
   "id": "b617d415",
   "metadata": {},
   "outputs": [
    {
     "name": "stdout",
     "output_type": "stream",
     "text": [
      "5\n",
      "True\n",
      "Second method True\n"
     ]
    }
   ],
   "source": [
    "#First Method\n",
    "a=input()\n",
    "first=int(a[0])\n",
    "second=int(a[-1])\n",
    "result=first+second\n",
    "print(result > 7)\n",
    "#Second method\n",
    "print(\"Second method\",int(a[0])+int(a[-1]) > 7)"
   ]
  },
  {
   "cell_type": "code",
   "execution_count": 18,
   "id": "e1b61edc",
   "metadata": {},
   "outputs": [
    {
     "name": "stdout",
     "output_type": "stream",
     "text": [
      "\n",
      "False\n",
      "The second method False\n"
     ]
    }
   ],
   "source": [
    "#Frist method\n",
    "password=input()\n",
    "length=len(password)\n",
    "if length > 7:\n",
    "    print(True)\n",
    "else:\n",
    "    print(False)\n",
    "#Second method\n",
    "print(\"The second method\",len(password)>7)"
   ]
  },
  {
   "cell_type": "code",
   "execution_count": 19,
   "id": "72903426",
   "metadata": {},
   "outputs": [
    {
     "name": "stdout",
     "output_type": "stream",
     "text": [
      "\n",
      "\n"
     ]
    },
    {
     "ename": "IndexError",
     "evalue": "string index out of range",
     "output_type": "error",
     "traceback": [
      "\u001b[1;31m---------------------------------------------------------------------------\u001b[0m",
      "\u001b[1;31mIndexError\u001b[0m                                Traceback (most recent call last)",
      "\u001b[1;32m~\\AppData\\Local\\Temp\\ipykernel_21652\\1629674635.py\u001b[0m in \u001b[0;36m<module>\u001b[1;34m\u001b[0m\n\u001b[0;32m      2\u001b[0m \u001b[0ma\u001b[0m\u001b[1;33m=\u001b[0m\u001b[0minput\u001b[0m\u001b[1;33m(\u001b[0m\u001b[1;33m)\u001b[0m\u001b[1;33m\u001b[0m\u001b[1;33m\u001b[0m\u001b[0m\n\u001b[0;32m      3\u001b[0m \u001b[0mb\u001b[0m\u001b[1;33m=\u001b[0m\u001b[0minput\u001b[0m\u001b[1;33m(\u001b[0m\u001b[1;33m)\u001b[0m\u001b[1;33m\u001b[0m\u001b[1;33m\u001b[0m\u001b[0m\n\u001b[1;32m----> 4\u001b[1;33m \u001b[1;32mif\u001b[0m \u001b[0ma\u001b[0m\u001b[1;33m[\u001b[0m\u001b[1;33m-\u001b[0m\u001b[1;36m4\u001b[0m\u001b[1;33m]\u001b[0m \u001b[1;32min\u001b[0m \u001b[0mb\u001b[0m\u001b[1;33m:\u001b[0m\u001b[1;33m\u001b[0m\u001b[1;33m\u001b[0m\u001b[0m\n\u001b[0m\u001b[0;32m      5\u001b[0m     \u001b[0mprint\u001b[0m\u001b[1;33m(\u001b[0m\u001b[1;32mTrue\u001b[0m\u001b[1;33m)\u001b[0m\u001b[1;33m\u001b[0m\u001b[1;33m\u001b[0m\u001b[0m\n\u001b[0;32m      6\u001b[0m \u001b[1;32melse\u001b[0m\u001b[1;33m:\u001b[0m\u001b[1;33m\u001b[0m\u001b[1;33m\u001b[0m\u001b[0m\n",
      "\u001b[1;31mIndexError\u001b[0m: string index out of range"
     ]
    }
   ],
   "source": [
    "#one method\n",
    "a=input()\n",
    "b=input()\n",
    "if a[-4] in b:\n",
    "    print(True)\n",
    "else:\n",
    "    print(False)"
   ]
  },
  {
   "cell_type": "code",
   "execution_count": 20,
   "id": "c78a0e4b",
   "metadata": {},
   "outputs": [
    {
     "name": "stdout",
     "output_type": "stream",
     "text": [
      "\n",
      "\n",
      "True\n"
     ]
    }
   ],
   "source": [
    "'''In this we take the input and we checking the lenght of the word\n",
    "and we subtract the first word length and second word length\n",
    "then we get the start index element then we indexing the first word\n",
    "element and the part will be equal to the second part return to resutl\n",
    "'''\n",
    "\n",
    "a=input()\n",
    "b=input()\n",
    "first_len=len(a)\n",
    "second_len=len(b)\n",
    "start_index=first_len-second_len\n",
    "part=a[start_index:]\n",
    "result=part==b\n",
    "print(result)"
   ]
  },
  {
   "cell_type": "code",
   "execution_count": null,
   "id": "d7398b6e",
   "metadata": {},
   "outputs": [],
   "source": [
    "#First method\n",
    "a=input()\n",
    "b=input()\n",
    "if a[:3]==b[:3]:\n",
    "    print(True)\n",
    "else:\n",
    "    print(False)\n",
    "#Second Method\n",
    "print(\"Second Method\",a[:3]==b[:3])"
   ]
  },
  {
   "cell_type": "markdown",
   "id": "ee4c649b",
   "metadata": {},
   "source": [
    "### Assignement\n"
   ]
  },
  {
   "cell_type": "code",
   "execution_count": 26,
   "id": "a769968d",
   "metadata": {},
   "outputs": [
    {
     "name": "stdout",
     "output_type": "stream",
     "text": [
      "28\n",
      "True\n",
      "False\n"
     ]
    }
   ],
   "source": [
    "a=input()\n",
    "print(int(a)>25)\n",
    "print(int(a[0])>int(a[1]))"
   ]
  },
  {
   "cell_type": "code",
   "execution_count": 32,
   "id": "af804533",
   "metadata": {},
   "outputs": [
    {
     "name": "stdout",
     "output_type": "stream",
     "text": [
      "123\n",
      "378\n",
      "True\n",
      "True\n"
     ]
    }
   ],
   "source": [
    "#Frist Method\n",
    "a=input()\n",
    "b=input()\n",
    "resul=int(a[0]) < int(b[-1])\n",
    "#Second method\n",
    "result_2=int(a[0])< int(b[len(b)-1])\n",
    "print(resul)\n",
    "print(result_2)"
   ]
  },
  {
   "cell_type": "code",
   "execution_count": 35,
   "id": "841e108e",
   "metadata": {},
   "outputs": [
    {
     "name": "stdout",
     "output_type": "stream",
     "text": [
      "apple\n",
      "pple\n",
      "True\n"
     ]
    }
   ],
   "source": [
    "#Compare the Last Three element\n",
    "a=input()\n",
    "b=input()\n",
    "print(a[-3:]==b[-3:])"
   ]
  },
  {
   "cell_type": "code",
   "execution_count": 1,
   "id": "f849a800",
   "metadata": {},
   "outputs": [
    {
     "name": "stdout",
     "output_type": "stream",
     "text": [
      "50\n",
      "250\n",
      "True\n"
     ]
    }
   ],
   "source": [
    "#Calculate the Percentage values\n",
    "percentage=int(input())\n",
    "number=int(input())\n",
    "calculuate_percentage=(percentage/100)*500\n",
    "if calculuate_percentage==number:\n",
    "    print(True)\n",
    "else:\n",
    "    print(True)"
   ]
  },
  {
   "cell_type": "code",
   "execution_count": 3,
   "id": "1b7a47e7",
   "metadata": {},
   "outputs": [
    {
     "name": "stdout",
     "output_type": "stream",
     "text": [
      "10\n",
      "4\n",
      "False\n"
     ]
    }
   ],
   "source": [
    "#Compare area and perimenter taking the two input variables\n",
    "length=int(input())\n",
    "breadth=int(input())\n",
    "#calculate the multiplie the length and breadth\n",
    "area=length*breadth\n",
    "# calculate the perimenter\n",
    "perimenter=2 * (length + breadth)\n",
    "print(area<=perimenter)"
   ]
  },
  {
   "cell_type": "code",
   "execution_count": 4,
   "id": "da16e418",
   "metadata": {},
   "outputs": [
    {
     "name": "stdout",
     "output_type": "stream",
     "text": [
      "5\n",
      "3\n",
      "A <= B is False\n",
      "B <= A is True\n"
     ]
    }
   ],
   "source": [
    "#Less then equal -2\n",
    "a=int(input())\n",
    "b=int(input())\n",
    "print(\"A <= B is {}\".format(a<=b))\n",
    "print(\"B <= A is {}\".format(b<=a))"
   ]
  },
  {
   "cell_type": "code",
   "execution_count": 11,
   "id": "a7d9eebc",
   "metadata": {},
   "outputs": [
    {
     "name": "stdout",
     "output_type": "stream",
     "text": [
      "apple\n",
      "2\n",
      "True\n",
      "True\n"
     ]
    }
   ],
   "source": [
    "#Compare the first and last elements\n",
    "string=input()\n",
    "length=int(input())\n",
    "second=string[len(string)-length:]\n",
    "print(string[:length]!=string[-length:])\n",
    "print(string[:length]!=second)"
   ]
  },
  {
   "cell_type": "code",
   "execution_count": 10,
   "id": "4a550beb",
   "metadata": {},
   "outputs": [
    {
     "data": {
      "text/plain": [
       "'le'"
      ]
     },
     "execution_count": 10,
     "metadata": {},
     "output_type": "execute_result"
    }
   ],
   "source": [
    "string='Apple'\n",
    "second=string[len(string)-length:]\n",
    "second"
   ]
  },
  {
   "cell_type": "code",
   "execution_count": 12,
   "id": "e01672e3",
   "metadata": {},
   "outputs": [
    {
     "name": "stdout",
     "output_type": "stream",
     "text": [
      "600\n",
      "500\n",
      "True\n"
     ]
    }
   ],
   "source": [
    "#Profit \n",
    "a=int(input())\n",
    "b=int(input())\n",
    "print(a>b)"
   ]
  },
  {
   "cell_type": "code",
   "execution_count": 41,
   "id": "85343406",
   "metadata": {},
   "outputs": [
    {
     "name": "stdout",
     "output_type": "stream",
     "text": [
      "apple\n",
      "ple\n"
     ]
    },
    {
     "data": {
      "text/plain": [
       "False"
      ]
     },
     "execution_count": 41,
     "metadata": {},
     "output_type": "execute_result"
    }
   ],
   "source": [
    "#Check the First Part of the string\n",
    "a=input()\n",
    "b=input()\n",
    "first=len(a)\n",
    "second=len(b)\n",
    "result=a[:second]\n",
    "fianl_result=(result==b)\n",
    "fianl_result"
   ]
  },
  {
   "cell_type": "code",
   "execution_count": 39,
   "id": "96cc3809",
   "metadata": {},
   "outputs": [
    {
     "name": "stdout",
     "output_type": "stream",
     "text": [
      "True\n"
     ]
    }
   ],
   "source": [
    "a='rainbow'\n",
    "b='rain'\n",
    "first=len(b)\n",
    "result=a[:first]\n",
    "print(result==b)"
   ]
  },
  {
   "cell_type": "code",
   "execution_count": null,
   "id": "87934e22",
   "metadata": {},
   "outputs": [],
   "source": []
  }
 ],
 "metadata": {
  "kernelspec": {
   "display_name": "Python 3 (ipykernel)",
   "language": "python",
   "name": "python3"
  },
  "language_info": {
   "codemirror_mode": {
    "name": "ipython",
    "version": 3
   },
   "file_extension": ".py",
   "mimetype": "text/x-python",
   "name": "python",
   "nbconvert_exporter": "python",
   "pygments_lexer": "ipython3",
   "version": "3.9.13"
  }
 },
 "nbformat": 4,
 "nbformat_minor": 5
}
