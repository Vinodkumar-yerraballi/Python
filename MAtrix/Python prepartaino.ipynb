{
 "cells": [
  {
   "cell_type": "code",
   "execution_count": 1,
   "id": "dd36f3a7",
   "metadata": {},
   "outputs": [
    {
     "name": "stdout",
     "output_type": "stream",
     "text": [
      "nohtyP\n",
      "elpoep taerG\n"
     ]
    }
   ],
   "source": [
    "# Write the reverse the string without using slicer\n",
    "input_values='Python'\n",
    "def reverse_string_slice(data):\n",
    "    return data[::-1]\n",
    "output_values=reverse_string_slice(input_values)\n",
    "print(output_values)\n",
    "\n",
    "def reverse_string_without_slice(data):\n",
    "    # Let's store the values in string format\n",
    "    result =''\n",
    "    # looping the each values in the data\n",
    "    for char in data:\n",
    "        #what we do the last letter become the first letter\n",
    "        result=char + result\n",
    "    return result\n",
    "second_values='Great people'\n",
    "print(reverse_string_without_slice(second_values))"
   ]
  },
  {
   "cell_type": "code",
   "execution_count": 2,
   "id": "188f045d",
   "metadata": {},
   "outputs": [
    {
     "name": "stdout",
     "output_type": "stream",
     "text": [
      "['H', 'l', 'l']\n",
      "Pythn fr dt scnc\n"
     ]
    }
   ],
   "source": [
    "values='Hello'\n",
    "vowels='AEIOUaeiou'\n",
    "result=[]\n",
    "for char in values:\n",
    "    if char not in vowels:\n",
    "        result.append(char)\n",
    "print(result)\n",
    "# Create the function to remove the all vowels in the data\n",
    "def remove_all_vowels(data):\n",
    "    result=''\n",
    "    vowels=['a','e','i','o','u']\n",
    "    for char in data:\n",
    "        if char not in vowels:\n",
    "            result= result +char\n",
    "    return result\n",
    "values_1='Python for data science'\n",
    "print(remove_all_vowels(values_1))"
   ]
  },
  {
   "cell_type": "code",
   "execution_count": 3,
   "id": "398f3d59",
   "metadata": {},
   "outputs": [
    {
     "name": "stdout",
     "output_type": "stream",
     "text": [
      "p y t h n s g d p r g r m n g\n"
     ]
    }
   ],
   "source": [
    "values='Python Is Good programing'\n",
    "vowels='AEIOUaeiou'\n",
    "result=[]\n",
    "for char in values.lower().replace(\" \",\"\"):\n",
    "    if char not in vowels:\n",
    "        result.append(char)\n",
    "print((' '.join(result)))"
   ]
  },
  {
   "cell_type": "code",
   "execution_count": 10,
   "id": "720f5095",
   "metadata": {},
   "outputs": [
    {
     "name": "stdout",
     "output_type": "stream",
     "text": [
      "True\n",
      "False\n"
     ]
    }
   ],
   "source": [
    "# Check the prime numbers\n",
    "def check_prime(number):\n",
    "    if number <=1:\n",
    "        return False\n",
    "    for i in range(2,number):\n",
    "        if number % i==0:\n",
    "            return False\n",
    "        else:\n",
    "            return True\n",
    "print(check_prime(3))\n",
    "print(check_prime(10))"
   ]
  },
  {
   "cell_type": "code",
   "execution_count": 11,
   "id": "2388555e",
   "metadata": {},
   "outputs": [
    {
     "name": "stdout",
     "output_type": "stream",
     "text": [
      "5\n"
     ]
    }
   ],
   "source": [
    "# sum of the prime numbers\n",
    "def sum_of_prime(number):\n",
    "    total=0\n",
    "    for i in range(2,number+1):\n",
    "        if(check_prime(number)):\n",
    "            total=total+i\n",
    "    return total\n",
    "print(sum_of_prime(3))"
   ]
  },
  {
   "cell_type": "code",
   "execution_count": 14,
   "id": "e0e7381f",
   "metadata": {},
   "outputs": [
    {
     "name": "stdout",
     "output_type": "stream",
     "text": [
      "120\n"
     ]
    }
   ],
   "source": [
    "# factior of the number\n",
    "def factorial(number):\n",
    "    if number < 0:\n",
    "        return False\n",
    "    sum_values=1\n",
    "    for i in range(1,number+1):\n",
    "        sum_values *=i\n",
    "    return sum_values\n",
    "\n",
    "print(factorial(5))"
   ]
  },
  {
   "cell_type": "code",
   "execution_count": null,
   "id": "747e2dab",
   "metadata": {},
   "outputs": [],
   "source": []
  },
  {
   "cell_type": "code",
   "execution_count": null,
   "id": "14a92a21",
   "metadata": {},
   "outputs": [],
   "source": []
  },
  {
   "cell_type": "code",
   "execution_count": null,
   "id": "69fceec9",
   "metadata": {},
   "outputs": [],
   "source": []
  }
 ],
 "metadata": {
  "kernelspec": {
   "display_name": "Python 3 (ipykernel)",
   "language": "python",
   "name": "python3"
  },
  "language_info": {
   "codemirror_mode": {
    "name": "ipython",
    "version": 3
   },
   "file_extension": ".py",
   "mimetype": "text/x-python",
   "name": "python",
   "nbconvert_exporter": "python",
   "pygments_lexer": "ipython3",
   "version": "3.11.3"
  }
 },
 "nbformat": 4,
 "nbformat_minor": 5
}
