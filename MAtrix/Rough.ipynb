{
 "cells": [
  {
   "cell_type": "code",
   "execution_count": 1,
   "id": "43c88d76",
   "metadata": {},
   "outputs": [
    {
     "name": "stdout",
     "output_type": "stream",
     "text": [
      "3 3\n",
      "3 3\n",
      "1 2 3\n",
      "4 5 6 \n",
      "6 7 8 \n",
      "[[1, 2, 3], [4, 5, 6], [6, 7, 8]]\n"
     ]
    }
   ],
   "source": [
    "def covertstring(string):\n",
    "    temp=[]\n",
    "    for i in string:\n",
    "        i=int(i)\n",
    "        temp.append(i)\n",
    "        \n",
    "    result_list.append(temp)\n",
    "row , col =input().split()\n",
    "a, b = int(row), int(col)\n",
    "print(a,b)\n",
    "result_list=[]\n",
    "for i in range(a):\n",
    "    string=input().split()\n",
    "    covertstring(string)\n",
    "print(result_list)\n",
    "    "
   ]
  },
  {
   "cell_type": "code",
   "execution_count": 2,
   "id": "13255f9b",
   "metadata": {},
   "outputs": [
    {
     "name": "stdout",
     "output_type": "stream",
     "text": [
      "3  3\n",
      "3 3\n",
      "1 2 3\n",
      "4 5 6 \n",
      "6 7 8\n",
      "[[1, 2, 3], [4, 5, 6], [6, 7, 8]]\n"
     ]
    }
   ],
   "source": [
    "#another method for matrix split\n",
    "row , col =input().split()\n",
    "a, b = int(row), int(col)\n",
    "print(a,b)\n",
    "result_list=[]\n",
    "for i in range(a):\n",
    "    string=list(map(int,input().split()))\n",
    "    result_list.append(string)\n",
    "print(result_list)"
   ]
  },
  {
   "cell_type": "code",
   "execution_count": null,
   "id": "23112ca8",
   "metadata": {},
   "outputs": [],
   "source": [
    "#another method for matrix split\n",
    "row , col =input().split()\n",
    "a, b = int(row), int(col)\n",
    "print(a,b)\n",
    "result_list=[]\n",
    "for i in range(a):\n",
    "    user_input=input().split()\n",
    "    temp=[]\n",
    "    for i in user_input:\n",
    "        if (user_input==\"x\"):\n",
    "            temp.append(1)\n",
    "        elif(user_input=='o')\n",
    "            temp.append(0)\n",
    "    print(temp)"
   ]
  },
  {
   "cell_type": "code",
   "execution_count": null,
   "id": "79eaa859",
   "metadata": {},
   "outputs": [],
   "source": []
  }
 ],
 "metadata": {
  "kernelspec": {
   "display_name": "Python 3 (ipykernel)",
   "language": "python",
   "name": "python3"
  },
  "language_info": {
   "codemirror_mode": {
    "name": "ipython",
    "version": 3
   },
   "file_extension": ".py",
   "mimetype": "text/x-python",
   "name": "python",
   "nbconvert_exporter": "python",
   "pygments_lexer": "ipython3",
   "version": "3.9.12"
  }
 },
 "nbformat": 4,
 "nbformat_minor": 5
}
